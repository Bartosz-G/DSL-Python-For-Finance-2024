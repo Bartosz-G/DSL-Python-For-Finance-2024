{
 "cells": [
  {
   "attachments": {},
   "cell_type": "markdown",
   "metadata": {
    "pycharm": {
     "name": "#%% md\n"
    }
   },
   "source": [
    "<div style=\"background-color: #323031; color:#ffffff; padding:30px; -webkit-border-radius:5px; width:95%\">\n",
    "\n",
    "# Python for Finance - Part 1\n",
    "\n",
    "&nbsp;\n",
    "\n",
    "This exclusive Python course for Finance students will teach you how to apply Python to access, visualize and analyse stock price data.\n",
    "\n",
    "<br>\n",
    "\n",
    "By the end of this first part, you will be able to:\n",
    "- retrieve stock price data from yahoo finance using the yfinance library\n",
    "- create line charts to visualize the development of stock prices over time\n",
    "- plot multiple lines for several stocks in a single plot\n",
    "- apply customizations to add information to your plot and adjust the appearance of the plot\n",
    "- calculate daily, monthly and annual returns"
   ]
  },
  {
   "attachments": {},
   "cell_type": "markdown",
   "metadata": {
    "pycharm": {
     "name": "#%% md\n"
    }
   },
   "source": [
    "<div class=\"alert alert-block alert-info\" style=\"background-color: #f2f2f2; color:#3F3F3F;padding:30px; -webkit-border-radius:5px; width:95%\">\n",
    "\n",
    "<b>What to do when getting stuck</b>:\n",
    "    <ol>\n",
    "        <li>Search online:</li>\n",
    "        <ol>\n",
    "            <li>The answer box on the top of Google's results page</li>\n",
    "            <li><a href=\"https://www.stackoverflow.com\">stackoverflow.com</a> (task-specific solutions)</li>\n",
    "            <li><a href=\"https://www.w3schools.com\">w3schools.com</a> (basic python questions)</li>\n",
    "            <li><a href=\"https://www.realpython.com\">realpython.com</a> (topic-based tutorials)</li>\n",
    "        </ol>\n",
    "        <li>Ask the trainer if you struggle to find a solution.</li>\n",
    "    </ol>\n",
    "\n",
    "&nbsp;\n"
   ]
  },
  {
   "cell_type": "markdown",
   "metadata": {
    "pycharm": {
     "name": "#%% md\n"
    }
   },
   "source": [
    "<img src=\"https://upload.wikimedia.org/wikipedia/commons/thumb/6/6b/Microcosm_of_London_Plate_075_-_New_Stock_Exchange_%28tone%29.jpg/640px-Microcosm_of_London_Plate_075_-_New_Stock_Exchange_%28tone%29.jpg\" width=\"400px\" align=\"left\">"
   ]
  },
  {
   "cell_type": "markdown",
   "metadata": {
    "pycharm": {
     "name": "#%% md\n"
    }
   },
   "source": [
    "London Stock Exchange in 1810"
   ]
  },
  {
   "cell_type": "markdown",
   "metadata": {
    "pycharm": {
     "name": "#%% md\n"
    }
   },
   "source": [
    "---"
   ]
  },
  {
   "attachments": {},
   "cell_type": "markdown",
   "metadata": {
    "pycharm": {
     "name": "#%% md\n"
    }
   },
   "source": [
    "<div class=\"alert alert-block alert-info\" style=\"background-color: #f2f2f2; color:#3F3F3F;padding:30px; -webkit-border-radius:5px; width:95%\">\n",
    "\n",
    "## Using Python for Finance\n",
    "\n",
    "Python is one of the most popular programming languages for data analysis/data science and is also the most popular programming language in fintech. Python is extremely versatile and although it might not be the language of choice for every purpose it certainly can be used for almost anything. Another great feature about Python is that it is very easy to learn and that you can find blogs, tutorials, forum posts or video tutorials on almost any topic. \n",
    "\n",
    "Here are some examples of how Python can be used to work with finance data:\n",
    "- transform and prepare data for statistical analysis\n",
    "- explore data through summary statistics and visualizations\n",
    "- run statistical and machine learning models to make predictions and generate insights from data\n",
    "- scrape data from websites\n",
    "- create interactive charts\n",
    "- build web applications\n",
    "\n",
    "This course will teach you how to apply Python to carry out finance specific tasks, such as retrieving stock market data through an API, plotting share prices, working returns and rolling statistics, and doing portfolio optimization using monte carlo simulation.\n",
    "\n",
    "## Anaconda and Anaconda Navigator\n",
    "\n",
    "Anaconda is a Python distribution for data science that together with Anaconda Navigator, a graphical user interface for a range of applications\n",
    "aims to provide a user-friendly working environment for beginners and experienced users. With Anaconda, you get base Python, the most important data science libraries and applications to write and run Python scripts with one installer, which simplifies the installation process tremendously.\n",
    "\n",
    "The Anaconda repository is a Python library storage system that hosts several thousand libraries. The Anaconda repository is organized into a multitude of channels, the most commonly used being conda and conda-forge, which are managed by the Anaconda and condas-forge team respectively. The conda repository is the default channel which hosts the most commonly used libraries. Conda-forge stores libraries that are not yet part of the official Anaconda distribution. Although it probably won't make much of a difference whether you use conda or conda-forge, there are two reasons for why you might want to prefer conda-forge. Libraries on conda-forge are likely to be more up to date and you are also more likely to find a library on conda-forge.\n",
    "\n",
    "Anaconda is great for beginners since a wide range of data science libraries are already preinstalled and it makes it easy to install additional libraries and manage environments with conda, which is the package manager of the Anaconda distribution. Here is a [conda cheatsheet](https://docs.conda.io/projects/conda/en/4.6.0/_downloads/52a95608c49671267e40c689e0bc00ca/conda-cheatsheet.pdf) with the most important commands to install and manage libraries and environments.\n",
    "\n",
    "In addition, Anaconda Navigator offers a GUI to choose from a number of popular applications to write Python code, such as jupyter notebook, Spyder and VS Code.\n",
    "\n"
   ]
  },
  {
   "cell_type": "markdown",
   "metadata": {},
   "source": [
    "\n",
    "## Task 1 - Installing yfinance\n",
    "\n",
    "The Anaconda distribution contains many of the most important libraries used for data science. The yfinance library however, which we will use to download stock price data from yahoo finance, is not part of it yet and has to be installed by the user. We use the `conda install` command to install the library. Following the name of the library, we add `-c conda-forge`, to tell conda to download the yfinance library from the conda-forge channel. You can think of a channel as a specific website on the conda server.\n",
    "\n",
    "`conda install yfinance -c conda-forge`\n",
    "\n",
    "1. Use the conda install command to install the yfinance library.\n",
    "2. Once the library has been installed run `conda list yfinance` command to verify the installation. It should display the name, version, build and channel."
   ]
  },
  {
   "cell_type": "code",
   "execution_count": null,
   "metadata": {},
   "outputs": [],
   "source": []
  },
  {
   "cell_type": "markdown",
   "metadata": {
    "pycharm": {
     "name": "#%% md\n"
    }
   },
   "source": [
    "&nbsp;\n",
    "\n",
    "&nbsp;"
   ]
  },
  {
   "cell_type": "markdown",
   "metadata": {
    "pycharm": {
     "name": "#%% md\n"
    }
   },
   "source": [
    "\n",
    "## Downloading financial data from yahoo finance"
   ]
  },
  {
   "cell_type": "markdown",
   "metadata": {
    "pycharm": {
     "name": "#%% md\n"
    }
   },
   "source": [
    "<img src=\"https://upload.wikimedia.org/wikipedia/commons/thumb/c/c5/Bitcoin_logo.svg/1920px-Bitcoin_logo.svg.png\" width=\"200px\" align=\"left\">"
   ]
  },
  {
   "cell_type": "markdown",
   "metadata": {
    "pycharm": {
     "name": "#%% md\n"
    }
   },
   "source": [
    "To download stock data from yahoo finance we will use the yfinance library. \n",
    "\n",
    "For this example, we are going to download the **Bitcoin to GBP rate**. There are more detailed explanations on the code below.\n",
    "\n",
    "<br>\n",
    "\n",
    "<br>\n",
    "\n",
    "#### Alternatives to yfinance\n",
    "\n",
    "In case the yfinance library does return an error or incorrect data, have a look at this section. Otherwise, you can skip this and carry on with using the yfinance library to download stock market data.\n",
    "\n",
    "Sometimes yahoo finance updates their website, or makes changes to their API, which can lead to a library no longer working. If yfinance returns an error message or incorrect data, you can try out the pandas-datareader library instead.\n",
    "\n",
    "1. Install pandas-datareader using `conda-install pandas-datareader`.\n",
    "2. Refresh your kernel.\n",
    "3. You can use the `web.DataReader()` function to download data from yahoo finance. Have a look at the [pandas-datareader documentation](https://pandas-datareader.readthedocs.io/en/latest/remote_data.html#remote-data-yahoo) for an example of how to use the DataReader() function to download data from yahoo-finance.\n",
    "\n",
    "In case pandas-datareader also returns an error message or incorrect data, you can use the Tiingo api. Tiingo is an online platform offering financial tools and data, including historical stock prices and market analytics. To use the tiingo api, you will need to register on their website (for free) and obtain your personal api key first.\n",
    "\n",
    "1. Go to [tiingo.com](https://www.tiingo.com/) and register with your personal (*not LSE*) email address.\n",
    "2. Confirm your email address to activate your account.\n",
    "3. Log in on tiingo.com and open the account section (top-right corner of the screen).\n",
    "4. Go to API > Token and copy paste the token.\n",
    "5. It's best to store the token in an environmental variable. An environment variable in Python is like a sticky note on your computer, holding important or confidential information that any program can read without having it written inside the program itself. Use the following code to do this and replace 1234 with your api key.\n",
    "```python\n",
    "        import os\n",
    "\n",
    "        os.environ[\"TIINGO_API_KEY\"] = \"1234\"\n",
    "\n",
    "```\n",
    "6. You can use the `pdr.get_data_tiingo()` function to download data from tiingo. Here is an example from the [pandas-datareader documentation](https://pandas-datareader.readthedocs.io/en/latest/remote_data.html#tiingo).\n"
   ]
  },
  {
   "cell_type": "code",
   "execution_count": 37,
   "metadata": {
    "pycharm": {
     "is_executing": true,
     "name": "#%%\n"
    }
   },
   "outputs": [
    {
     "name": "stdout",
     "output_type": "stream",
     "text": [
      "[*********************100%%**********************]  1 of 1 completed\n"
     ]
    },
    {
     "data": {
      "text/html": [
       "<div>\n",
       "<style scoped>\n",
       "    .dataframe tbody tr th:only-of-type {\n",
       "        vertical-align: middle;\n",
       "    }\n",
       "\n",
       "    .dataframe tbody tr th {\n",
       "        vertical-align: top;\n",
       "    }\n",
       "\n",
       "    .dataframe thead th {\n",
       "        text-align: right;\n",
       "    }\n",
       "</style>\n",
       "<table border=\"1\" class=\"dataframe\">\n",
       "  <thead>\n",
       "    <tr style=\"text-align: right;\">\n",
       "      <th></th>\n",
       "      <th>Open</th>\n",
       "      <th>High</th>\n",
       "      <th>Low</th>\n",
       "      <th>Close</th>\n",
       "      <th>Adj Close</th>\n",
       "      <th>Volume</th>\n",
       "    </tr>\n",
       "    <tr>\n",
       "      <th>Date</th>\n",
       "      <th></th>\n",
       "      <th></th>\n",
       "      <th></th>\n",
       "      <th></th>\n",
       "      <th></th>\n",
       "      <th></th>\n",
       "    </tr>\n",
       "  </thead>\n",
       "  <tbody>\n",
       "    <tr>\n",
       "      <th>2020-01-01</th>\n",
       "      <td>5425.667969</td>\n",
       "      <td>5472.485840</td>\n",
       "      <td>5407.095215</td>\n",
       "      <td>5433.849121</td>\n",
       "      <td>5433.849121</td>\n",
       "      <td>14011191757</td>\n",
       "    </tr>\n",
       "    <tr>\n",
       "      <th>2020-01-02</th>\n",
       "      <td>5435.643066</td>\n",
       "      <td>5437.121094</td>\n",
       "      <td>5277.165039</td>\n",
       "      <td>5313.357910</td>\n",
       "      <td>5313.357910</td>\n",
       "      <td>15822688746</td>\n",
       "    </tr>\n",
       "    <tr>\n",
       "      <th>2020-01-03</th>\n",
       "      <td>5312.565918</td>\n",
       "      <td>5662.306641</td>\n",
       "      <td>5263.736328</td>\n",
       "      <td>5615.142090</td>\n",
       "      <td>5615.142090</td>\n",
       "      <td>21491142914</td>\n",
       "    </tr>\n",
       "    <tr>\n",
       "      <th>2020-01-04</th>\n",
       "      <td>5615.517578</td>\n",
       "      <td>5678.214355</td>\n",
       "      <td>5588.101562</td>\n",
       "      <td>5665.424805</td>\n",
       "      <td>5665.424805</td>\n",
       "      <td>14100590057</td>\n",
       "    </tr>\n",
       "    <tr>\n",
       "      <th>2020-01-05</th>\n",
       "      <td>5665.268066</td>\n",
       "      <td>5764.659668</td>\n",
       "      <td>5659.478027</td>\n",
       "      <td>5666.796875</td>\n",
       "      <td>5666.796875</td>\n",
       "      <td>15082067804</td>\n",
       "    </tr>\n",
       "    <tr>\n",
       "      <th>...</th>\n",
       "      <td>...</td>\n",
       "      <td>...</td>\n",
       "      <td>...</td>\n",
       "      <td>...</td>\n",
       "      <td>...</td>\n",
       "      <td>...</td>\n",
       "    </tr>\n",
       "    <tr>\n",
       "      <th>2023-11-13</th>\n",
       "      <td>30380.431641</td>\n",
       "      <td>30457.091797</td>\n",
       "      <td>30090.097656</td>\n",
       "      <td>30299.369141</td>\n",
       "      <td>30299.369141</td>\n",
       "      <td>9440897335</td>\n",
       "    </tr>\n",
       "    <tr>\n",
       "      <th>2023-11-14</th>\n",
       "      <td>30312.277344</td>\n",
       "      <td>30585.115234</td>\n",
       "      <td>29642.818359</td>\n",
       "      <td>29724.306641</td>\n",
       "      <td>29724.306641</td>\n",
       "      <td>15518924218</td>\n",
       "    </tr>\n",
       "    <tr>\n",
       "      <th>2023-11-15</th>\n",
       "      <td>29715.701172</td>\n",
       "      <td>29918.000000</td>\n",
       "      <td>27988.820312</td>\n",
       "      <td>28444.433594</td>\n",
       "      <td>28444.433594</td>\n",
       "      <td>19095537377</td>\n",
       "    </tr>\n",
       "    <tr>\n",
       "      <th>2023-11-16</th>\n",
       "      <td>28452.816406</td>\n",
       "      <td>30569.066406</td>\n",
       "      <td>28336.392578</td>\n",
       "      <td>30495.119141</td>\n",
       "      <td>30495.119141</td>\n",
       "      <td>22030389523</td>\n",
       "    </tr>\n",
       "    <tr>\n",
       "      <th>2023-11-17</th>\n",
       "      <td>29131.814453</td>\n",
       "      <td>29513.578125</td>\n",
       "      <td>29088.363281</td>\n",
       "      <td>29141.593750</td>\n",
       "      <td>29141.593750</td>\n",
       "      <td>21018103808</td>\n",
       "    </tr>\n",
       "  </tbody>\n",
       "</table>\n",
       "<p>1417 rows × 6 columns</p>\n",
       "</div>"
      ],
      "text/plain": [
       "                    Open          High  ...     Adj Close       Volume\n",
       "Date                                    ...                           \n",
       "2020-01-01   5425.667969   5472.485840  ...   5433.849121  14011191757\n",
       "2020-01-02   5435.643066   5437.121094  ...   5313.357910  15822688746\n",
       "2020-01-03   5312.565918   5662.306641  ...   5615.142090  21491142914\n",
       "2020-01-04   5615.517578   5678.214355  ...   5665.424805  14100590057\n",
       "2020-01-05   5665.268066   5764.659668  ...   5666.796875  15082067804\n",
       "...                  ...           ...  ...           ...          ...\n",
       "2023-11-13  30380.431641  30457.091797  ...  30299.369141   9440897335\n",
       "2023-11-14  30312.277344  30585.115234  ...  29724.306641  15518924218\n",
       "2023-11-15  29715.701172  29918.000000  ...  28444.433594  19095537377\n",
       "2023-11-16  28452.816406  30569.066406  ...  30495.119141  22030389523\n",
       "2023-11-17  29131.814453  29513.578125  ...  29141.593750  21018103808\n",
       "\n",
       "[1417 rows x 6 columns]"
      ]
     },
     "execution_count": 37,
     "metadata": {},
     "output_type": "execute_result"
    }
   ],
   "source": [
    "# importing libraries\n",
    "import yfinance as yf\n",
    "import pandas as pd\n",
    "\n",
    "\n",
    "# creating a start and end date\n",
    "start = '2020-01-01'\n",
    "\n",
    "end = '2024-01-27'\n",
    "\n",
    "# creating a variable for the ticker\n",
    "ticker = 'BTC-GBP'\n",
    "\n",
    "# downloading the bitcoin to gbp rate\n",
    "\n",
    "btc = yf.download(ticker,start=start,end=end)\n",
    "\n",
    "btc"
   ]
  },
  {
   "cell_type": "markdown",
   "metadata": {
    "pycharm": {
     "name": "#%% md\n"
    }
   },
   "source": [
    "#### Line 2f: Importing libraries\n",
    "\n",
    "```python\n",
    "import yfinance as yf\n",
    "import pandas as pd\n",
    "```\n",
    "\n",
    "In order to import and work with financial data from yahoo finance, we will need the following libraries:\n",
    "\n",
    "- yfinance: To download financial data\n",
    "- pandas: To work with the financial data as a dataframe"
   ]
  },
  {
   "cell_type": "markdown",
   "metadata": {
    "pycharm": {
     "name": "#%% md\n"
    }
   },
   "source": [
    "#### Line 6f: Creating a start and end date\n",
    "\n",
    "\n",
    "```python\n",
    "start = '2020-01-01'\n",
    "end = '2024-01-27'\n",
    "```\n",
    "\n",
    "The `yf.download()` function does not require a start and end date. If no dates are provided, it will return the data from the last five years or less, depending on how much data is available.\n",
    "\n",
    "The dates are created as strings. We use the `%y-%m-%d` format to download data from 1st Jan 2020 till 27th Jan 2024. The get_data_yahoo() function only accepts `%y-%m-%d` as a date format."
   ]
  },
  {
   "cell_type": "markdown",
   "metadata": {
    "pycharm": {
     "name": "#%% md\n"
    }
   },
   "source": [
    "#### Line 10: Creating a ticker variable\n",
    "\n",
    "```python\n",
    "ticker = 'BTC-GBP'\n",
    "```\n",
    "\n",
    "The ticker is a symbol to uniquely identify a stock. You can search the ticker on the yahoo finance website (see below). We store the ticker `'BTC-GBP'`for the Bitcon to British Pound rate in the variable `ticker`."
   ]
  },
  {
   "cell_type": "markdown",
   "metadata": {
    "pycharm": {
     "name": "#%% md\n"
    }
   },
   "source": [
    "#### Line 13: Downloading the data\n",
    "\n",
    "```python\n",
    "btc = yf.download(ticker, start, end)\n",
    "```\n",
    "\n",
    "To download the data for the Bitcoin-GBP rate, we are going to use the **yfinance** library, which we imported under the alias `yf`. We will use the `download()` function to download the financial data from finance.yahoo.com.\n",
    "\n",
    "The `download()` function requires 1 argument: ticker. The start and end arguments are optional.\n",
    "- *ticker*: the abbreviation of the stock name\n",
    "- *start*: the starting date\n",
    "- *end*: the end date\n",
    "\n",
    "We pass `ticker` as the first argument. We also enter our start and end dates using the variables `start` and `end`.\n",
    "\n",
    "These three arguments have to be passed in this specific order!"
   ]
  },
  {
   "cell_type": "markdown",
   "metadata": {
    "pycharm": {
     "name": "#%% md\n"
    }
   },
   "source": [
    "We can now have a look at the data."
   ]
  },
  {
   "cell_type": "code",
   "execution_count": 30,
   "metadata": {
    "pycharm": {
     "is_executing": true,
     "name": "#%%\n"
    }
   },
   "outputs": [],
   "source": [
    "btc"
   ]
  },
  {
   "cell_type": "markdown",
   "metadata": {
    "pycharm": {
     "name": "#%% md\n"
    }
   },
   "source": [
    "---"
   ]
  },
  {
   "cell_type": "markdown",
   "metadata": {
    "pycharm": {
     "name": "#%% md\n"
    }
   },
   "source": [
    "<img src=\"https://www.dropbox.com/s/ijgo4f0sm3k2xc0/tesco_ms.png?raw=1\" align=\"left\" width=400px>"
   ]
  },
  {
   "cell_type": "markdown",
   "metadata": {
    "pycharm": {
     "name": "#%% md\n"
    }
   },
   "source": [
    "## Task 2: Import the stock data from Tesco and Marks and Spencer"
   ]
  },
  {
   "cell_type": "markdown",
   "metadata": {
    "pycharm": {
     "name": "#%% md\n"
    }
   },
   "source": [
    "1. Import the relevant libraries as shown above.\n",
    "2. Search for the ticker for Tesco and Marks and Spencer from the London Stock Exchange on https://uk.finance.yahoo.com/\n",
    "\n",
    "<img src=\"https://www.dropbox.com/s/ggjn22cr2vhru8q/yahoo_finance.png?raw=1\" width=500px>\n",
    "\n",
    "3. Create as a start date 2010 and today as the end date.\n",
    "4. Import the stock data using yahoo finance as the source and store both in separate variables.\n",
    "5. Export both datasets as a csv.\n",
    "6. Print the head of each dataset.\n",
    "7. The start and end date are optional parameters. How else can you get the data from the past 10 years, apart from entering the end date?"
   ]
  },
  {
   "cell_type": "code",
   "execution_count": null,
   "metadata": {
    "pycharm": {
     "name": "#%%\n"
    }
   },
   "outputs": [],
   "source": []
  },
  {
   "cell_type": "markdown",
   "metadata": {
    "pycharm": {
     "name": "#%% md\n"
    }
   },
   "source": [
    "---"
   ]
  },
  {
   "cell_type": "markdown",
   "metadata": {
    "pycharm": {
     "name": "#%% md\n"
    }
   },
   "source": [
    "## Inspecting a dataset"
   ]
  },
  {
   "cell_type": "markdown",
   "metadata": {
    "pycharm": {
     "name": "#%% md\n"
    }
   },
   "source": [
    "### Getting an overview of the data\n",
    "\n",
    "Pandas has a number of useful methods to get an overview of your dataset. Try a websearch if you cannot remember the method from the courses on dataquest.io to solve the task."
   ]
  },
  {
   "cell_type": "markdown",
   "metadata": {
    "pycharm": {
     "name": "#%% md\n"
    }
   },
   "source": [
    "## Task 3: Inspecting the dataset\n",
    "\n",
    "1. Print the column types of the Tesco and Marks and Spencer stock dataset.\n",
    "2. Print the number of rows of both datasets.\n",
    "3. Print the the first and last value in the Adjusted Close column of each dataset.\n",
    "4. Print the summary statistics for the complete dataframe."
   ]
  },
  {
   "cell_type": "code",
   "execution_count": null,
   "metadata": {
    "pycharm": {
     "name": "#%%\n"
    }
   },
   "outputs": [],
   "source": []
  },
  {
   "cell_type": "markdown",
   "metadata": {
    "pycharm": {
     "name": "#%% md\n"
    }
   },
   "source": [
    "---"
   ]
  },
  {
   "cell_type": "markdown",
   "metadata": {
    "pycharm": {
     "name": "#%% md\n"
    }
   },
   "source": [
    "## Plotting with matplotlib"
   ]
  },
  {
   "cell_type": "markdown",
   "metadata": {
    "pycharm": {
     "name": "#%% md\n"
    }
   },
   "source": [
    "Matplotlib is the most popular plotting library in Python. It allows you to create many different plots with very few code. Although creating more complex plots, can be challenging, it isn't difficult to find useful help in [blog posts](https://towardsdatascience.com/matplotlib-tutorial-learn-basics-of-pythons-powerful-plotting-library-b5d1b8f67596), [tutorials](https://realpython.com/python-matplotlib-guide/), on [stackoverflow.com](https://stackoverflow.com/questions/tagged/matplotlib?sort=MostVotes&edited=true) or the documentation and tutorials on the [matplotlib website](https://matplotlib.org/tutorials/).\n",
    "\n",
    "We are going to use the **matplotlib** library to plot the Bitcoin to British Pound rate as a function of time. We can use the **index** of the **btc** data frame to retrieve the date and the **Adj Close** column to plot the Bitcoin to Pound rate."
   ]
  },
  {
   "cell_type": "markdown",
   "metadata": {
    "pycharm": {
     "name": "#%% md\n"
    }
   },
   "source": [
    "### Simple line plot"
   ]
  },
  {
   "cell_type": "code",
   "execution_count": 39,
   "metadata": {
    "pycharm": {
     "name": "#%%\n"
    }
   },
   "outputs": [
    {
     "data": {
      "image/png": "[encoded data removed]",
      "text/plain": [
       "<Figure size 640x480 with 1 Axes>"
      ]
     },
     "metadata": {},
     "output_type": "display_data"
    }
   ],
   "source": [
    "#import matplotlib\n",
    "import matplotlib.pyplot as plt\n",
    "\n",
    "# plot Adj Close column\n",
    "plt.plot(btc.index, btc['Adj Close'])\n",
    "\n",
    "plt.show()"
   ]
  },
  {
   "cell_type": "markdown",
   "metadata": {
    "pycharm": {
     "name": "#%% md\n"
    }
   },
   "source": [
    "#### Line 1: Importing matplotlib\n",
    "\n",
    "```python\n",
    "import matplotlib.pyplot as plt\n",
    "```\n",
    "\n",
    "We start by importing the `pyplot` module from the `matplotlib` library under the alias `plt`."
   ]
  },
  {
   "cell_type": "markdown",
   "metadata": {
    "pycharm": {
     "name": "#%% md\n"
    }
   },
   "source": [
    "#### Line 3: line plot\n",
    "\n",
    "```python\n",
    "plt.plot(btc.index, btc['Close'])\n",
    "```\n",
    "\n",
    "From the `plt` module we call the `plot()` function and we pass as arguments the **index** and the **Close** column of the btc dataframe. The values for the x and y axis are positional arguments, which means they have to be passed in this order."
   ]
  },
  {
   "cell_type": "markdown",
   "metadata": {
    "pycharm": {
     "name": "#%% md\n"
    }
   },
   "source": [
    "#### Line 4: plt.show()\n",
    "\n",
    "```python\n",
    "plt.show()\n",
    "```\n",
    "\n",
    "The `plt.show()` command is used to display matplotlib figures. It is actually not necessary to run the plt.show() command in a Jupyter notebook to display the figures, but you would have to use it to display a plot in a normal Python script for instance."
   ]
  },
  {
   "cell_type": "markdown",
   "metadata": {
    "pycharm": {
     "name": "#%% md\n"
    }
   },
   "source": [
    "## Task 4: A simple line plot\n",
    "\n",
    "1. Import matplotlib\n",
    "2. Create a line plot of the Adjusted Close column of the Tesco stock on the y-axis and the date on the x-axis."
   ]
  },
  {
   "cell_type": "code",
   "execution_count": null,
   "metadata": {
    "pycharm": {
     "name": "#%%\n"
    }
   },
   "outputs": [],
   "source": []
  },
  {
   "cell_type": "markdown",
   "metadata": {
    "pycharm": {
     "name": "#%% md\n"
    }
   },
   "source": [
    "---"
   ]
  },
  {
   "cell_type": "markdown",
   "metadata": {
    "pycharm": {
     "name": "#%% md\n"
    }
   },
   "source": [
    "## Customized line plot\n",
    "\n",
    "In the next step, we will customize the look of the plot by changing colors, adding labels and text and adding a grid. See explanations on the code below."
   ]
  },
  {
   "cell_type": "code",
   "execution_count": 38,
   "metadata": {
    "pycharm": {
     "name": "#%%\n"
    }
   },
   "outputs": [
    {
     "data": {
      "image/png": "[encoded data removed]",
      "text/plain": [
       "<Figure size 640x480 with 1 Axes>"
      ]
     },
     "metadata": {},
     "output_type": "display_data"
    }
   ],
   "source": [
    "plt.plot(btc.index, btc['Adj Close'], color='tab:orange', linewidth=2, alpha=.8)\n",
    "\n",
    "plt.title('BTC') # adding a plot title\n",
    "plt.xlabel('Date') # adding an x-axis label\n",
    "plt.ylabel('Price') # adding a y-axis label\n",
    "plt.xticks(rotation=30) # rotating x-ticks\n",
    "plt.yticks([10000, 20000, 30000, 40000, 50000], \n",
    "           ['£10000', '£20000', '£30000', '£40000', '£50000']) # adding labels\n",
    "plt.grid(linestyle='--') # adding a grid to the plot\n",
    "\n",
    "plt.show()"
   ]
  },
  {
   "cell_type": "markdown",
   "metadata": {
    "pycharm": {
     "name": "#%% md\n"
    }
   },
   "source": [
    "#### Line 1: Changing the appearance of the line\n",
    "\n",
    "\n",
    "```python\n",
    "plt.plot(btc.index, btc['Adj Close'], color='tab:orange', linewidth=1.5, alpha=.8)\n",
    "```\n",
    "We can change the appearance of the line with several keyword arguments to be passed to the `plt.plot()` function. \n",
    "\n",
    "We use the `color` argument to change the colour to the tableau orange with `'tab:orange'`. Have a look at the [matplotlib documentation](https://matplotlib.org/3.1.0/gallery/color/named_colors.html) for a colour palette and corresponding names.\n",
    "\n",
    "The `linewdith` argument takes float values to adjust the width of the line.\n",
    "\n",
    "With the `alpha` argument you can change the transparency of the line. You have to pass a value between 0 and 1."
   ]
  },
  {
   "cell_type": "markdown",
   "metadata": {
    "pycharm": {
     "name": "#%% md\n"
    }
   },
   "source": [
    "#### Line 3-5: Adding a title and labels\n",
    "\n",
    "\n",
    "```python\n",
    "plt.title('Bitcoin')\n",
    "plt.xlabel('Date')\n",
    "plt.ylabel('Price in GBP')\n",
    "```\n",
    "\n",
    "To add a title and labels for the x- and y-axis, we use `plt.title()`, `plt.xlabel()` and `plt.ylabel()` and pass a string for the title and axes labels.\n",
    "\n",
    "#### Line 6: Changing x-tick orientation\n",
    "\n",
    "```python\n",
    "plt.xticks(rotation=30)\n",
    "```\n",
    "The orientation of the x-ticks can be adjusted by passing a degree value to the rotation parameter from the `plt.xticks()` function.\n",
    "\n",
    "\n",
    "#### Line 7-8: Adding tick labels on y-axis\n",
    "\n",
    "```python\n",
    "plt.yticks([10000, 20000, 30000, 40000, 50000],\n",
    "           ['£10000', '£20000', '£30000', '£40000', '£50000'])\n",
    "```\n",
    "\n",
    "We can change the tick labels on the y-axis with `plt.ticks()` to display numbers preceded with a Pound symbol. To do this, we have to pass two lists to the function - the first containing the tick positions (10000 - 50000) and the second containing the string values that should be displayed at each tick position. \n",
    "\n",
    "#### Line 8: Addng a grid\n",
    "```python\n",
    "plt.grid(linestyle='--')\n",
    "```\n",
    "\n",
    "`plt.grid(linestyle='--')` adds a grid. With the `linestyle` argument we can change the from a solid to a dashed line."
   ]
  },
  {
   "cell_type": "markdown",
   "metadata": {
    "pycharm": {
     "name": "#%% md\n"
    }
   },
   "source": [
    "## Task 5: Customizing the line plot\n",
    "\n",
    "1. Adjust the colour, linewidth and alpha\n",
    "2. Add a title and axis labels\n",
    "3. Change the yticks to display a pound sign before the numbers\n",
    "4. Add a grid"
   ]
  },
  {
   "cell_type": "code",
   "execution_count": null,
   "metadata": {
    "pycharm": {
     "name": "#%%\n"
    }
   },
   "outputs": [],
   "source": []
  },
  {
   "cell_type": "markdown",
   "metadata": {
    "pycharm": {
     "name": "#%% md\n"
    }
   },
   "source": [
    "---"
   ]
  },
  {
   "cell_type": "markdown",
   "metadata": {
    "pycharm": {
     "name": "#%% md\n"
    }
   },
   "source": [
    "## Adding a second data series and a legend\n",
    "\n",
    "In the example below, a second line with the adjusted close price for Ethereum, which is another crypto currency, is added to the plot. See below for detailed explanations on the code."
   ]
  },
  {
   "cell_type": "code",
   "execution_count": 8,
   "metadata": {
    "pycharm": {
     "name": "#%%\n"
    }
   },
   "outputs": [
    {
     "name": "stdout",
     "output_type": "stream",
     "text": [
      "[*********************100%***********************]  1 of 1 completed\n"
     ]
    },
    {
     "data": {
      "image/png": "[encoded data removed]",
      "text/plain": [
       "<Figure size 640x480 with 1 Axes>"
      ]
     },
     "metadata": {},
     "output_type": "display_data"
    }
   ],
   "source": [
    "eth = yf.download('ETH-GBP', start, end)\n",
    "\n",
    "plt.plot(btc.index, btc['Adj Close'], color='tab:orange', label='Bitcoin') # plotting the first line\n",
    "plt.plot(eth.index, eth['Adj Close'], color='tab:blue', label='Ethereum') # plotting the second line\n",
    "\n",
    "plt.title('BTC vs ETH')\n",
    "plt.xlabel('Date')\n",
    "plt.ylabel('Price in GBP')\n",
    "plt.xticks(rotation=30)\n",
    "plt.yticks([10000, 20000, 30000, 40000, 50000],\n",
    "           ['£10000', '£20000', '£30000', '£40000', '£50000'])\n",
    "plt.grid(linestyle='--')\n",
    "plt.legend() # displaying the legend using labels from plt.plot()\n",
    "\n",
    "plt.show()"
   ]
  },
  {
   "cell_type": "markdown",
   "metadata": {
    "pycharm": {
     "name": "#%% md\n"
    }
   },
   "source": [
    "#### Line 3f: Plotting two lines in the same plot\n",
    "\n",
    "```python\n",
    "plt.plot(btc.index, btc['Adj Close'], color='tab:orange', label='Bitcoin')\n",
    "plt.plot(eth.index, eth['Adj Close'], color='tab:blue', label='Ethereum')\n",
    "```\n",
    "\n",
    "To add a second data series to the plot, you can add another `plt.plot()` call. In the example below, a second line is created by using the values from the Adj Close column of the Ethereum data. To better differentiate the two lines the colour is set to `tab:blue` and a label is applied with the `label` argument."
   ]
  },
  {
   "cell_type": "markdown",
   "metadata": {
    "pycharm": {
     "name": "#%% md\n"
    }
   },
   "source": [
    "#### Line 13: Adding a legend\n",
    "\n",
    "```python\n",
    "plt.legend()\n",
    "```\n",
    "\n",
    "With `plt.legend()` the legend is being displayed in the plot area. The legend will use the labels that we added to the lines with the `label` argument in line 1 and 2."
   ]
  },
  {
   "cell_type": "markdown",
   "metadata": {
    "pycharm": {
     "name": "#%% md\n"
    }
   },
   "source": [
    "### Task 5: Adding a second line\n",
    "\n",
    "1. Add a second line to the plot for the Marks and Spencer Adj Close column\n",
    "2. Add labels to both lines\n",
    "3. Add a legend\n",
    "4. Adjust the title\n",
    "5. Adjust the yaxis ticks"
   ]
  },
  {
   "cell_type": "code",
   "execution_count": null,
   "metadata": {
    "pycharm": {
     "name": "#%%\n"
    }
   },
   "outputs": [],
   "source": []
  },
  {
   "cell_type": "markdown",
   "metadata": {
    "pycharm": {
     "name": "#%% md\n"
    }
   },
   "source": [
    "<br>\n",
    "\n",
    "<br>\n",
    "\n",
    "<br>\n",
    "\n",
    "\n",
    "## Calculating returns"
   ]
  },
  {
   "attachments": {},
   "cell_type": "markdown",
   "metadata": {
    "pycharm": {
     "name": "#%% md\n"
    }
   },
   "source": [
    "Netflix has seen a strong growth over the last decade. In the following tasks, you will download and visualize the Netflix stock price with a line chart and then continue to calculate the daily, monthly and annual returns and visualize them."
   ]
  },
  {
   "cell_type": "markdown",
   "metadata": {
    "pycharm": {
     "name": "#%% md\n"
    }
   },
   "source": [
    "<br>\n",
    "\n",
    "<br>\n",
    "\n",
    "<br>\n",
    "\n",
    "\n",
    "<br>\n",
    "\n",
    "\n",
    "<img src=\"https://upload.wikimedia.org/wikipedia/commons/thumb/0/08/Netflix_2015_logo.svg/800px-Netflix_2015_logo.svg.png\" width=\"40%\" align=\"left\">"
   ]
  },
  {
   "attachments": {},
   "cell_type": "markdown",
   "metadata": {
    "pycharm": {
     "name": "#%% md\n"
    }
   },
   "source": [
    "### Task 6: Import netflix stock\n",
    "\n",
    "1. Search for the ticker for the Netflix stock on the yahoo finance website\n",
    "2. Import the Netflix stock data from 2009 till today\n",
    "3. Print the head of the dataframe and the last date to verify the download of the data."
   ]
  },
  {
   "cell_type": "code",
   "execution_count": null,
   "metadata": {
    "pycharm": {
     "name": "#%%\n"
    }
   },
   "outputs": [],
   "source": []
  },
  {
   "cell_type": "markdown",
   "metadata": {
    "pycharm": {
     "name": "#%% md\n"
    }
   },
   "source": [
    "## Calculating daily returns"
   ]
  },
  {
   "cell_type": "markdown",
   "metadata": {
    "pycharm": {
     "name": "#%% md\n"
    }
   },
   "source": [
    "In the next step, you are going to calculate daily, monthly and annual returns based for the Netflix stock. Returns tell you how much money an investor would have made over a particular period of time by giving either the absolute or percentual change of the price from one day/month/year to another."
   ]
  },
  {
   "cell_type": "markdown",
   "metadata": {
    "pycharm": {
     "name": "#%% md\n"
    }
   },
   "source": [
    "In the example below, we will use the Amazon stock data which we download from yahoo finance with pandas-datatreader. To calculate the daily return, that is, the percentual change from one day to another, we can use the `.pct_change()` method. We apply this method to the **Adj Close** column and assign the result to a new column called **daily_ret**."
   ]
  },
  {
   "cell_type": "code",
   "execution_count": 40,
   "metadata": {
    "pycharm": {
     "is_executing": true,
     "name": "#%%\n"
    }
   },
   "outputs": [
    {
     "name": "stdout",
     "output_type": "stream",
     "text": [
      "[*********************100%%**********************]  1 of 1 completed\n"
     ]
    }
   ],
   "source": [
    "amzn = yf.download('AMZN', start='1997-05-15')\n",
    "\n",
    "amzn['daily_ret'] = amzn['Adj Close'].pct_change()"
   ]
  },
  {
   "cell_type": "markdown",
   "metadata": {
    "pycharm": {
     "name": "#%% md\n"
    }
   },
   "source": [
    "As you can see, the new column **daily_ret** has been added to the dataframe. The values indicate the percentual change from one day to another. \n",
    "\n",
    "The second value in the **daily_ret** column represents the percentual change from the first to the second value in the **Adj Close** column."
   ]
  },
  {
   "cell_type": "code",
   "execution_count": 41,
   "metadata": {
    "pycharm": {
     "is_executing": true,
     "name": "#%%\n"
    }
   },
   "outputs": [
    {
     "data": {
      "text/html": [
       "<div>\n",
       "<style scoped>\n",
       "    .dataframe tbody tr th:only-of-type {\n",
       "        vertical-align: middle;\n",
       "    }\n",
       "\n",
       "    .dataframe tbody tr th {\n",
       "        vertical-align: top;\n",
       "    }\n",
       "\n",
       "    .dataframe thead th {\n",
       "        text-align: right;\n",
       "    }\n",
       "</style>\n",
       "<table border=\"1\" class=\"dataframe\">\n",
       "  <thead>\n",
       "    <tr style=\"text-align: right;\">\n",
       "      <th></th>\n",
       "      <th>Open</th>\n",
       "      <th>High</th>\n",
       "      <th>Low</th>\n",
       "      <th>Close</th>\n",
       "      <th>Adj Close</th>\n",
       "      <th>Volume</th>\n",
       "      <th>daily_ret</th>\n",
       "    </tr>\n",
       "    <tr>\n",
       "      <th>Date</th>\n",
       "      <th></th>\n",
       "      <th></th>\n",
       "      <th></th>\n",
       "      <th></th>\n",
       "      <th></th>\n",
       "      <th></th>\n",
       "      <th></th>\n",
       "    </tr>\n",
       "  </thead>\n",
       "  <tbody>\n",
       "    <tr>\n",
       "      <th>1997-05-15</th>\n",
       "      <td>0.121875</td>\n",
       "      <td>0.125000</td>\n",
       "      <td>0.096354</td>\n",
       "      <td>0.097917</td>\n",
       "      <td>0.097917</td>\n",
       "      <td>1443120000</td>\n",
       "      <td>NaN</td>\n",
       "    </tr>\n",
       "    <tr>\n",
       "      <th>1997-05-16</th>\n",
       "      <td>0.098438</td>\n",
       "      <td>0.098958</td>\n",
       "      <td>0.085417</td>\n",
       "      <td>0.086458</td>\n",
       "      <td>0.086458</td>\n",
       "      <td>294000000</td>\n",
       "      <td>-0.117028</td>\n",
       "    </tr>\n",
       "    <tr>\n",
       "      <th>1997-05-19</th>\n",
       "      <td>0.088021</td>\n",
       "      <td>0.088542</td>\n",
       "      <td>0.081250</td>\n",
       "      <td>0.085417</td>\n",
       "      <td>0.085417</td>\n",
       "      <td>122136000</td>\n",
       "      <td>-0.012040</td>\n",
       "    </tr>\n",
       "    <tr>\n",
       "      <th>1997-05-20</th>\n",
       "      <td>0.086458</td>\n",
       "      <td>0.087500</td>\n",
       "      <td>0.081771</td>\n",
       "      <td>0.081771</td>\n",
       "      <td>0.081771</td>\n",
       "      <td>109344000</td>\n",
       "      <td>-0.042685</td>\n",
       "    </tr>\n",
       "    <tr>\n",
       "      <th>1997-05-21</th>\n",
       "      <td>0.081771</td>\n",
       "      <td>0.082292</td>\n",
       "      <td>0.068750</td>\n",
       "      <td>0.071354</td>\n",
       "      <td>0.071354</td>\n",
       "      <td>377064000</td>\n",
       "      <td>-0.127392</td>\n",
       "    </tr>\n",
       "  </tbody>\n",
       "</table>\n",
       "</div>"
      ],
      "text/plain": [
       "                Open      High       Low  ...  Adj Close      Volume  daily_ret\n",
       "Date                                      ...                                  \n",
       "1997-05-15  0.121875  0.125000  0.096354  ...   0.097917  1443120000        NaN\n",
       "1997-05-16  0.098438  0.098958  0.085417  ...   0.086458   294000000  -0.117028\n",
       "1997-05-19  0.088021  0.088542  0.081250  ...   0.085417   122136000  -0.012040\n",
       "1997-05-20  0.086458  0.087500  0.081771  ...   0.081771   109344000  -0.042685\n",
       "1997-05-21  0.081771  0.082292  0.068750  ...   0.071354   377064000  -0.127392\n",
       "\n",
       "[5 rows x 7 columns]"
      ]
     },
     "execution_count": 41,
     "metadata": {},
     "output_type": "execute_result"
    }
   ],
   "source": [
    "amzn.head()"
   ]
  },
  {
   "cell_type": "markdown",
   "metadata": {
    "pycharm": {
     "name": "#%% md\n"
    }
   },
   "source": [
    "### Task 7: Daily Netflix returns\n",
    "\n",
    "Add a column to the netflix dataframe on the daily returns."
   ]
  },
  {
   "cell_type": "code",
   "execution_count": null,
   "metadata": {
    "pycharm": {
     "name": "#%%\n"
    }
   },
   "outputs": [],
   "source": []
  },
  {
   "cell_type": "code",
   "execution_count": 6,
   "metadata": {
    "pycharm": {
     "name": "#%%\n"
    }
   },
   "outputs": [
    {
     "data": {
      "text/plain": [
       "Date\n",
       "2009-01-02 00:00:00-05:00         NaN\n",
       "2009-01-05 00:00:00-05:00    0.069300\n",
       "2009-01-06 00:00:00-05:00    0.031309\n",
       "2009-01-07 00:00:00-05:00   -0.006982\n",
       "2009-01-08 00:00:00-05:00    0.013452\n",
       "                               ...   \n",
       "2023-01-17 00:00:00-05:00   -0.019831\n",
       "2023-01-18 00:00:00-05:00    0.000337\n",
       "2023-01-19 00:00:00-05:00   -0.032329\n",
       "2023-01-20 00:00:00-05:00    0.084616\n",
       "2023-01-23 00:00:00-05:00    0.052847\n",
       "Name: daily_ret, Length: 3538, dtype: float64"
      ]
     },
     "execution_count": 6,
     "metadata": {},
     "output_type": "execute_result"
    }
   ],
   "source": [
    "# solution output; don't run this cell or the output will be lost"
   ]
  },
  {
   "cell_type": "markdown",
   "metadata": {
    "pycharm": {
     "name": "#%% md\n"
    }
   },
   "source": [
    "&nbsp;\n",
    "\n",
    "&nbsp;\n",
    "\n",
    "\n",
    "## Calculating annual and monthly returns"
   ]
  },
  {
   "cell_type": "markdown",
   "metadata": {
    "pycharm": {
     "name": "#%% md\n"
    }
   },
   "source": [
    "As you can see in the **daily_ret** column, we cannot calculate the product of these values to yield the return over several days, months or years, since these values are all close to zero."
   ]
  },
  {
   "cell_type": "code",
   "execution_count": 11,
   "metadata": {
    "pycharm": {
     "is_executing": true,
     "name": "#%%\n"
    }
   },
   "outputs": [
    {
     "data": {
      "text/html": [
       "<div>\n",
       "<style scoped>\n",
       "    .dataframe tbody tr th:only-of-type {\n",
       "        vertical-align: middle;\n",
       "    }\n",
       "\n",
       "    .dataframe tbody tr th {\n",
       "        vertical-align: top;\n",
       "    }\n",
       "\n",
       "    .dataframe thead th {\n",
       "        text-align: right;\n",
       "    }\n",
       "</style>\n",
       "<table border=\"1\" class=\"dataframe\">\n",
       "  <thead>\n",
       "    <tr style=\"text-align: right;\">\n",
       "      <th></th>\n",
       "      <th>Open</th>\n",
       "      <th>High</th>\n",
       "      <th>Low</th>\n",
       "      <th>Close</th>\n",
       "      <th>Adj Close</th>\n",
       "      <th>Volume</th>\n",
       "      <th>daily_ret</th>\n",
       "    </tr>\n",
       "    <tr>\n",
       "      <th>Date</th>\n",
       "      <th></th>\n",
       "      <th></th>\n",
       "      <th></th>\n",
       "      <th></th>\n",
       "      <th></th>\n",
       "      <th></th>\n",
       "      <th></th>\n",
       "    </tr>\n",
       "  </thead>\n",
       "  <tbody>\n",
       "    <tr>\n",
       "      <th>1997-05-15 00:00:00-04:00</th>\n",
       "      <td>0.121875</td>\n",
       "      <td>0.125000</td>\n",
       "      <td>0.096354</td>\n",
       "      <td>0.097917</td>\n",
       "      <td>0.097917</td>\n",
       "      <td>1443120000</td>\n",
       "      <td>NaN</td>\n",
       "    </tr>\n",
       "    <tr>\n",
       "      <th>1997-05-16 00:00:00-04:00</th>\n",
       "      <td>0.098438</td>\n",
       "      <td>0.098958</td>\n",
       "      <td>0.085417</td>\n",
       "      <td>0.086458</td>\n",
       "      <td>0.086458</td>\n",
       "      <td>294000000</td>\n",
       "      <td>-0.117028</td>\n",
       "    </tr>\n",
       "    <tr>\n",
       "      <th>1997-05-19 00:00:00-04:00</th>\n",
       "      <td>0.088021</td>\n",
       "      <td>0.088542</td>\n",
       "      <td>0.081250</td>\n",
       "      <td>0.085417</td>\n",
       "      <td>0.085417</td>\n",
       "      <td>122136000</td>\n",
       "      <td>-0.012040</td>\n",
       "    </tr>\n",
       "    <tr>\n",
       "      <th>1997-05-20 00:00:00-04:00</th>\n",
       "      <td>0.086458</td>\n",
       "      <td>0.087500</td>\n",
       "      <td>0.081771</td>\n",
       "      <td>0.081771</td>\n",
       "      <td>0.081771</td>\n",
       "      <td>109344000</td>\n",
       "      <td>-0.042685</td>\n",
       "    </tr>\n",
       "    <tr>\n",
       "      <th>1997-05-21 00:00:00-04:00</th>\n",
       "      <td>0.081771</td>\n",
       "      <td>0.082292</td>\n",
       "      <td>0.068750</td>\n",
       "      <td>0.071354</td>\n",
       "      <td>0.071354</td>\n",
       "      <td>377064000</td>\n",
       "      <td>-0.127392</td>\n",
       "    </tr>\n",
       "  </tbody>\n",
       "</table>\n",
       "</div>"
      ],
      "text/plain": [
       "                               Open      High       Low     Close  Adj Close  \\\n",
       "Date                                                                           \n",
       "1997-05-15 00:00:00-04:00  0.121875  0.125000  0.096354  0.097917   0.097917   \n",
       "1997-05-16 00:00:00-04:00  0.098438  0.098958  0.085417  0.086458   0.086458   \n",
       "1997-05-19 00:00:00-04:00  0.088021  0.088542  0.081250  0.085417   0.085417   \n",
       "1997-05-20 00:00:00-04:00  0.086458  0.087500  0.081771  0.081771   0.081771   \n",
       "1997-05-21 00:00:00-04:00  0.081771  0.082292  0.068750  0.071354   0.071354   \n",
       "\n",
       "                               Volume  daily_ret  \n",
       "Date                                              \n",
       "1997-05-15 00:00:00-04:00  1443120000        NaN  \n",
       "1997-05-16 00:00:00-04:00   294000000  -0.117028  \n",
       "1997-05-19 00:00:00-04:00   122136000  -0.012040  \n",
       "1997-05-20 00:00:00-04:00   109344000  -0.042685  \n",
       "1997-05-21 00:00:00-04:00   377064000  -0.127392  "
      ]
     },
     "execution_count": 11,
     "metadata": {},
     "output_type": "execute_result"
    }
   ],
   "source": [
    "amzn.head()"
   ]
  },
  {
   "cell_type": "markdown",
   "metadata": {
    "pycharm": {
     "name": "#%% md\n"
    }
   },
   "source": [
    "Trying to calculate the return rate for May 1997 using the `.prod()` method on the **daily_ret** values return a number very close to 0."
   ]
  },
  {
   "cell_type": "code",
   "execution_count": 13,
   "metadata": {
    "pycharm": {
     "is_executing": true,
     "name": "#%%\n"
    }
   },
   "outputs": [
    {
     "data": {
      "text/plain": [
       "1.3448147356182729e-15"
      ]
     },
     "execution_count": 13,
     "metadata": {},
     "output_type": "execute_result"
    }
   ],
   "source": [
    "amzn['daily_ret'][:11].prod()"
   ]
  },
  {
   "cell_type": "markdown",
   "metadata": {
    "pycharm": {
     "name": "#%% md\n"
    }
   },
   "source": [
    "We first have to add 1 to all values, calculate the product and then substract 1. \n",
    "\n",
    "We start by creating a new column **daily_ret_1**."
   ]
  },
  {
   "cell_type": "code",
   "execution_count": 42,
   "metadata": {
    "pycharm": {
     "is_executing": true,
     "name": "#%%\n"
    },
    "scrolled": true
   },
   "outputs": [
    {
     "data": {
      "text/html": [
       "<div>\n",
       "<style scoped>\n",
       "    .dataframe tbody tr th:only-of-type {\n",
       "        vertical-align: middle;\n",
       "    }\n",
       "\n",
       "    .dataframe tbody tr th {\n",
       "        vertical-align: top;\n",
       "    }\n",
       "\n",
       "    .dataframe thead th {\n",
       "        text-align: right;\n",
       "    }\n",
       "</style>\n",
       "<table border=\"1\" class=\"dataframe\">\n",
       "  <thead>\n",
       "    <tr style=\"text-align: right;\">\n",
       "      <th></th>\n",
       "      <th>Open</th>\n",
       "      <th>High</th>\n",
       "      <th>Low</th>\n",
       "      <th>Close</th>\n",
       "      <th>Adj Close</th>\n",
       "      <th>Volume</th>\n",
       "      <th>daily_ret</th>\n",
       "      <th>daily_ret_1</th>\n",
       "    </tr>\n",
       "    <tr>\n",
       "      <th>Date</th>\n",
       "      <th></th>\n",
       "      <th></th>\n",
       "      <th></th>\n",
       "      <th></th>\n",
       "      <th></th>\n",
       "      <th></th>\n",
       "      <th></th>\n",
       "      <th></th>\n",
       "    </tr>\n",
       "  </thead>\n",
       "  <tbody>\n",
       "    <tr>\n",
       "      <th>1997-05-15</th>\n",
       "      <td>0.121875</td>\n",
       "      <td>0.125000</td>\n",
       "      <td>0.096354</td>\n",
       "      <td>0.097917</td>\n",
       "      <td>0.097917</td>\n",
       "      <td>1443120000</td>\n",
       "      <td>NaN</td>\n",
       "      <td>NaN</td>\n",
       "    </tr>\n",
       "    <tr>\n",
       "      <th>1997-05-16</th>\n",
       "      <td>0.098438</td>\n",
       "      <td>0.098958</td>\n",
       "      <td>0.085417</td>\n",
       "      <td>0.086458</td>\n",
       "      <td>0.086458</td>\n",
       "      <td>294000000</td>\n",
       "      <td>-0.117028</td>\n",
       "      <td>0.882972</td>\n",
       "    </tr>\n",
       "    <tr>\n",
       "      <th>1997-05-19</th>\n",
       "      <td>0.088021</td>\n",
       "      <td>0.088542</td>\n",
       "      <td>0.081250</td>\n",
       "      <td>0.085417</td>\n",
       "      <td>0.085417</td>\n",
       "      <td>122136000</td>\n",
       "      <td>-0.012040</td>\n",
       "      <td>0.987960</td>\n",
       "    </tr>\n",
       "    <tr>\n",
       "      <th>1997-05-20</th>\n",
       "      <td>0.086458</td>\n",
       "      <td>0.087500</td>\n",
       "      <td>0.081771</td>\n",
       "      <td>0.081771</td>\n",
       "      <td>0.081771</td>\n",
       "      <td>109344000</td>\n",
       "      <td>-0.042685</td>\n",
       "      <td>0.957315</td>\n",
       "    </tr>\n",
       "    <tr>\n",
       "      <th>1997-05-21</th>\n",
       "      <td>0.081771</td>\n",
       "      <td>0.082292</td>\n",
       "      <td>0.068750</td>\n",
       "      <td>0.071354</td>\n",
       "      <td>0.071354</td>\n",
       "      <td>377064000</td>\n",
       "      <td>-0.127392</td>\n",
       "      <td>0.872608</td>\n",
       "    </tr>\n",
       "  </tbody>\n",
       "</table>\n",
       "</div>"
      ],
      "text/plain": [
       "                Open      High       Low  ...      Volume  daily_ret  daily_ret_1\n",
       "Date                                      ...                                    \n",
       "1997-05-15  0.121875  0.125000  0.096354  ...  1443120000        NaN          NaN\n",
       "1997-05-16  0.098438  0.098958  0.085417  ...   294000000  -0.117028     0.882972\n",
       "1997-05-19  0.088021  0.088542  0.081250  ...   122136000  -0.012040     0.987960\n",
       "1997-05-20  0.086458  0.087500  0.081771  ...   109344000  -0.042685     0.957315\n",
       "1997-05-21  0.081771  0.082292  0.068750  ...   377064000  -0.127392     0.872608\n",
       "\n",
       "[5 rows x 8 columns]"
      ]
     },
     "execution_count": 42,
     "metadata": {},
     "output_type": "execute_result"
    }
   ],
   "source": [
    "amzn['daily_ret_1'] = amzn['daily_ret'] + 1\n",
    "amzn.head()"
   ]
  },
  {
   "cell_type": "markdown",
   "metadata": {
    "pycharm": {
     "name": "#%% md\n"
    }
   },
   "source": [
    "If we now calculate the return rate for May 1997, we can see that the price decreased by 23.40 %"
   ]
  },
  {
   "cell_type": "code",
   "execution_count": 43,
   "metadata": {
    "pycharm": {
     "is_executing": true,
     "name": "#%%\n"
    }
   },
   "outputs": [
    {
     "data": {
      "text/plain": [
       "-0.2340451143747122"
      ]
     },
     "execution_count": 43,
     "metadata": {},
     "output_type": "execute_result"
    }
   ],
   "source": [
    "ret_05_97 = amzn['daily_ret_1'][:11].prod()\n",
    "ret_05_97 -= 1\n",
    "ret_05_97"
   ]
  },
  {
   "cell_type": "markdown",
   "metadata": {
    "pycharm": {
     "name": "#%% md\n"
    }
   },
   "source": [
    "To calculate *annual* returns, we will have to calculate the product of the **daily_ret_1** column separately for each year. In order to achieve this, we have to group the **amzn** dataframe based on the dates into separate dataframes for each year. This can be done with the `.resample()` method, which is called on the dataframe. In the example below, we split the dataframe into smaller dataframes for each year. The `'A'` stands for annual."
   ]
  },
  {
   "cell_type": "code",
   "execution_count": 16,
   "metadata": {
    "pycharm": {
     "is_executing": true,
     "name": "#%%\n"
    }
   },
   "outputs": [
    {
     "data": {
      "text/plain": [
       "<pandas.core.resample.DatetimeIndexResampler object at 0x000001723E4E6208>"
      ]
     },
     "execution_count": 16,
     "metadata": {},
     "output_type": "execute_result"
    }
   ],
   "source": [
    "# split amzn dataframe into smaller dataframes for each year\n",
    "amzn.resample('1A')"
   ]
  },
  {
   "cell_type": "code",
   "execution_count": 17,
   "metadata": {
    "pycharm": {
     "is_executing": true,
     "name": "#%%\n"
    }
   },
   "outputs": [
    {
     "data": {
      "text/plain": [
       "<pandas.core.resample.DatetimeIndexResampler object at 0x0000017241353B70>"
      ]
     },
     "execution_count": 17,
     "metadata": {},
     "output_type": "execute_result"
    }
   ],
   "source": [
    "# split amzn dataframe into smaller dataframes for each two years\n",
    "amzn.resample('2A')"
   ]
  },
  {
   "cell_type": "markdown",
   "metadata": {
    "pycharm": {
     "name": "#%% md\n"
    }
   },
   "source": [
    "In order to calculate the product of the daily_ret_1 column values for each year, we add `['daily_ret_1].prod()`.\n",
    "\n",
    "This code will resample the complete **amzn** dataframe into subsets for each year, select the values from the daily_ret_1 column and aggregate these values by calculating their product.\n",
    "\n",
    "As you can see below, this will generate the annual returns."
   ]
  },
  {
   "cell_type": "code",
   "execution_count": 50,
   "metadata": {
    "pycharm": {
     "is_executing": true,
     "name": "#%%\n"
    }
   },
   "outputs": [
    {
     "data": {
      "text/plain": [
       "Date\n",
       "1997-12-31     2.563825\n",
       "1998-12-31    10.663885\n",
       "1999-12-31     1.421790\n",
       "2000-12-31     0.204433\n",
       "2001-12-31     0.695261\n",
       "2002-12-31     1.745841\n",
       "2003-12-31     2.785601\n",
       "2004-12-31     0.841695\n",
       "2005-12-31     1.064574\n",
       "2006-12-31     0.836903\n",
       "2007-12-31     2.347694\n",
       "2008-12-31     0.553541\n",
       "2009-12-31     2.623245\n",
       "2010-12-31     1.338091\n",
       "2011-12-31     0.961667\n",
       "2012-12-31     1.449278\n",
       "2013-12-31     1.589628\n",
       "2014-12-31     0.778229\n",
       "2015-12-31     2.177831\n",
       "2016-12-31     1.109456\n",
       "2017-12-31     1.559564\n",
       "2018-12-31     1.284317\n",
       "2019-12-31     1.230277\n",
       "2020-12-31     1.762561\n",
       "2021-12-31     1.023768\n",
       "2022-12-31     0.503848\n",
       "2023-12-31     1.700357\n",
       "Freq: A-DEC, Name: daily_ret_1, dtype: float64"
      ]
     },
     "execution_count": 50,
     "metadata": {},
     "output_type": "execute_result"
    }
   ],
   "source": [
    "# calculating the annual returns using .resample() and .prod()\n",
    "annual_returns = amzn.resample('1A')['daily_ret_1'].prod()\n",
    "annual_returns"
   ]
  },
  {
   "cell_type": "markdown",
   "metadata": {
    "pycharm": {
     "name": "#%% md\n"
    }
   },
   "source": [
    "In order to represent the annual returns as a signed rate, just as we represent the daily returns, we have to subtract one from them."
   ]
  },
  {
   "cell_type": "code",
   "execution_count": 51,
   "metadata": {
    "pycharm": {
     "is_executing": true,
     "name": "#%%\n"
    }
   },
   "outputs": [
    {
     "data": {
      "text/plain": [
       "Date\n",
       "1997-12-31    1.563825\n",
       "1998-12-31    9.663885\n",
       "1999-12-31    0.421790\n",
       "2000-12-31   -0.795567\n",
       "2001-12-31   -0.304739\n",
       "2002-12-31    0.745841\n",
       "2003-12-31    1.785601\n",
       "2004-12-31   -0.158305\n",
       "2005-12-31    0.064574\n",
       "2006-12-31   -0.163097\n",
       "2007-12-31    1.347694\n",
       "2008-12-31   -0.446459\n",
       "2009-12-31    1.623245\n",
       "2010-12-31    0.338091\n",
       "2011-12-31   -0.038333\n",
       "2012-12-31    0.449278\n",
       "2013-12-31    0.589628\n",
       "2014-12-31   -0.221771\n",
       "2015-12-31    1.177831\n",
       "2016-12-31    0.109456\n",
       "2017-12-31    0.559564\n",
       "2018-12-31    0.284317\n",
       "2019-12-31    0.230277\n",
       "2020-12-31    0.762561\n",
       "2021-12-31    0.023768\n",
       "2022-12-31   -0.496152\n",
       "2023-12-31    0.700357\n",
       "Freq: A-DEC, Name: daily_ret_1, dtype: float64"
      ]
     },
     "execution_count": 51,
     "metadata": {},
     "output_type": "execute_result"
    }
   ],
   "source": [
    "annual_returns = annual_returns - 1\n",
    "annual_returns"
   ]
  },
  {
   "cell_type": "markdown",
   "metadata": {
    "pycharm": {
     "name": "#%% md\n"
    }
   },
   "source": [
    "We can adapt the code from before to calculate the monthly return rate by changing the value for the resample method from `'1A'` to `'1M'`. \n",
    "\n",
    "We resample the **amzn** dataframe to smaller subsets for each month, select the values from the daily_ret_1 column and calculate the product.\n",
    "\n",
    "The values have to be reduced by 1 to reflect the signed rate."
   ]
  },
  {
   "cell_type": "code",
   "execution_count": 52,
   "metadata": {
    "pycharm": {
     "is_executing": true,
     "name": "#%%\n"
    }
   },
   "outputs": [
    {
     "data": {
      "text/plain": [
       "Date\n",
       "1997-05-31   -0.234045\n",
       "1997-06-30    0.027773\n",
       "1997-07-31    0.554065\n",
       "1997-08-31   -0.023916\n",
       "1997-09-30    0.855235\n",
       "                ...   \n",
       "2023-07-31    0.025468\n",
       "2023-08-31    0.032391\n",
       "2023-09-30   -0.078907\n",
       "2023-10-31    0.046963\n",
       "2023-11-30    0.073184\n",
       "Freq: M, Name: daily_ret_1, Length: 319, dtype: float64"
      ]
     },
     "execution_count": 52,
     "metadata": {},
     "output_type": "execute_result"
    }
   ],
   "source": [
    "# split amzn dataframe into smaller dataframes for each year\n",
    "monthly_returns = amzn.resample('1M')['daily_ret_1'].prod()\n",
    "monthly_returns -= 1\n",
    "monthly_returns"
   ]
  },
  {
   "cell_type": "markdown",
   "metadata": {
    "pycharm": {
     "name": "#%% md\n"
    }
   },
   "source": [
    "&nbsp;\n",
    "\n",
    "### Task 8: Calculating annual and monthly return rates\n",
    "\n",
    "It is now your turn to carry out the same steps to calculate the annual and monthly return rates for Netflix.\n",
    "\n",
    "1. Create a new column **daily_ret_1** to add 1 to the daily returns\n",
    "2. Calculate the monthly returns.  \n",
    "3. Calculate the annual returns."
   ]
  },
  {
   "cell_type": "code",
   "execution_count": null,
   "metadata": {
    "pycharm": {
     "name": "#%%\n"
    }
   },
   "outputs": [],
   "source": []
  },
  {
   "cell_type": "markdown",
   "metadata": {
    "pycharm": {
     "name": "#%% md\n"
    }
   },
   "source": [
    "&nbsp;\n",
    "\n",
    "## Calculating new columns for the monthly return rates"
   ]
  },
  {
   "cell_type": "markdown",
   "metadata": {
    "pycharm": {
     "name": "#%% md\n"
    }
   },
   "source": [
    "Based on how we calculated the monthly return rates, we wouldn't be able to add them to the dataframe with the daily returns since we aggregated the data to only one return value per month, whereas the original dataframe has a row for each day.\n",
    "\n",
    "With the `.transform()` method we can replicate the monthly returns for as many times as there are days in each different month.\n",
    "\n",
    "Let us start with the annual returns and compare the output when using `.prod()` and `.transform('prod')`."
   ]
  },
  {
   "cell_type": "code",
   "execution_count": 53,
   "metadata": {
    "pycharm": {
     "is_executing": true,
     "name": "#%%\n"
    }
   },
   "outputs": [
    {
     "data": {
      "text/plain": [
       "Date\n",
       "1997-12-31     2.563825\n",
       "1998-12-31    10.663885\n",
       "1999-12-31     1.421790\n",
       "2000-12-31     0.204433\n",
       "2001-12-31     0.695261\n",
       "2002-12-31     1.745841\n",
       "2003-12-31     2.785601\n",
       "2004-12-31     0.841695\n",
       "2005-12-31     1.064574\n",
       "2006-12-31     0.836903\n",
       "2007-12-31     2.347694\n",
       "2008-12-31     0.553541\n",
       "2009-12-31     2.623245\n",
       "2010-12-31     1.338091\n",
       "2011-12-31     0.961667\n",
       "2012-12-31     1.449278\n",
       "2013-12-31     1.589628\n",
       "2014-12-31     0.778229\n",
       "2015-12-31     2.177831\n",
       "2016-12-31     1.109456\n",
       "2017-12-31     1.559564\n",
       "2018-12-31     1.284317\n",
       "2019-12-31     1.230277\n",
       "2020-12-31     1.762561\n",
       "2021-12-31     1.023768\n",
       "2022-12-31     0.503848\n",
       "2023-12-31     1.700357\n",
       "Freq: A-DEC, Name: daily_ret_1, dtype: float64"
      ]
     },
     "execution_count": 53,
     "metadata": {},
     "output_type": "execute_result"
    }
   ],
   "source": [
    "amzn.resample('1A')['daily_ret_1'].prod()"
   ]
  },
  {
   "cell_type": "code",
   "execution_count": 54,
   "metadata": {
    "pycharm": {
     "is_executing": true,
     "name": "#%%\n"
    },
    "scrolled": true
   },
   "outputs": [
    {
     "data": {
      "text/plain": [
       "Date\n",
       "1997-05-15    2.563825\n",
       "1997-05-16    2.563825\n",
       "1997-05-19    2.563825\n",
       "1997-05-20    2.563825\n",
       "1997-05-21    2.563825\n",
       "                ...   \n",
       "2023-11-10    1.700357\n",
       "2023-11-13    1.700357\n",
       "2023-11-14    1.700357\n",
       "2023-11-15    1.700357\n",
       "2023-11-16    1.700357\n",
       "Name: daily_ret_1, Length: 6672, dtype: float64"
      ]
     },
     "execution_count": 54,
     "metadata": {},
     "output_type": "execute_result"
    }
   ],
   "source": [
    "amzn.resample('1A')['daily_ret_1'].transform('prod')"
   ]
  },
  {
   "cell_type": "markdown",
   "metadata": {
    "pycharm": {
     "name": "#%% md\n"
    }
   },
   "source": [
    "While using `.prod()` returns the return rate for each year only once, `.transform('prod')` replicates the annual return rate for as many days as there are in each year.\n",
    "\n",
    "The last row shows us that there as many values when using `.transform('prod')`, as there are rows in the original dataframe has."
   ]
  },
  {
   "cell_type": "code",
   "execution_count": 55,
   "metadata": {
    "pycharm": {
     "is_executing": true,
     "name": "#%%\n"
    }
   },
   "outputs": [
    {
     "data": {
      "text/plain": [
       "6672"
      ]
     },
     "execution_count": 55,
     "metadata": {},
     "output_type": "execute_result"
    }
   ],
   "source": [
    "len(amzn)"
   ]
  },
  {
   "cell_type": "markdown",
   "metadata": {
    "pycharm": {
     "name": "#%% md\n"
    }
   },
   "source": [
    "By using `.transform('prod')` the monthly return rates will directly map onto the rows in the original dataframe, and we can use these values to create a new column for the monthly returns."
   ]
  },
  {
   "cell_type": "code",
   "execution_count": 56,
   "metadata": {
    "pycharm": {
     "name": "#%%\n"
    }
   },
   "outputs": [],
   "source": [
    "amzn['monthly_ret'] = amzn.resample('1M')['daily_ret_1'].transform('prod')"
   ]
  },
  {
   "cell_type": "markdown",
   "metadata": {
    "pycharm": {
     "name": "#%% md\n"
    }
   },
   "source": [
    "Below you can see how this has created a new column **monthly_ret** with the product of the values from the **daily_ret_1** column for each month. "
   ]
  },
  {
   "cell_type": "markdown",
   "metadata": {
    "pycharm": {
     "name": "#%% md\n"
    }
   },
   "source": [
    "<img src=\"https://www.dropbox.com/s/kzd1fgatnu8neki/groupby_transform.png?raw=1\">"
   ]
  },
  {
   "cell_type": "markdown",
   "metadata": {
    "pycharm": {
     "name": "#%% md\n"
    }
   },
   "source": [
    "To change these values from a multiplier to a signed rate, similar to the **daily_ret** column, we have to subtract 1."
   ]
  },
  {
   "cell_type": "code",
   "execution_count": 57,
   "metadata": {
    "pycharm": {
     "name": "#%%\n"
    }
   },
   "outputs": [],
   "source": [
    "amzn['monthly_ret'] = amzn['monthly_ret'] - 1"
   ]
  },
  {
   "cell_type": "markdown",
   "metadata": {
    "pycharm": {
     "name": "#%% md\n"
    }
   },
   "source": [
    "We can see now that in the first month of Amazon entering the stock market, the stock lost 23.43%. In the second month, the stock gained 2.80%."
   ]
  },
  {
   "cell_type": "code",
   "execution_count": 58,
   "metadata": {
    "pycharm": {
     "is_executing": true,
     "name": "#%%\n"
    }
   },
   "outputs": [
    {
     "data": {
      "text/html": [
       "<div>\n",
       "<style scoped>\n",
       "    .dataframe tbody tr th:only-of-type {\n",
       "        vertical-align: middle;\n",
       "    }\n",
       "\n",
       "    .dataframe tbody tr th {\n",
       "        vertical-align: top;\n",
       "    }\n",
       "\n",
       "    .dataframe thead th {\n",
       "        text-align: right;\n",
       "    }\n",
       "</style>\n",
       "<table border=\"1\" class=\"dataframe\">\n",
       "  <thead>\n",
       "    <tr style=\"text-align: right;\">\n",
       "      <th></th>\n",
       "      <th>Open</th>\n",
       "      <th>High</th>\n",
       "      <th>Low</th>\n",
       "      <th>Close</th>\n",
       "      <th>Adj Close</th>\n",
       "      <th>Volume</th>\n",
       "      <th>daily_ret</th>\n",
       "      <th>daily_ret_1</th>\n",
       "      <th>monthly_ret</th>\n",
       "    </tr>\n",
       "    <tr>\n",
       "      <th>Date</th>\n",
       "      <th></th>\n",
       "      <th></th>\n",
       "      <th></th>\n",
       "      <th></th>\n",
       "      <th></th>\n",
       "      <th></th>\n",
       "      <th></th>\n",
       "      <th></th>\n",
       "      <th></th>\n",
       "    </tr>\n",
       "  </thead>\n",
       "  <tbody>\n",
       "    <tr>\n",
       "      <th>1997-05-15</th>\n",
       "      <td>0.121875</td>\n",
       "      <td>0.125000</td>\n",
       "      <td>0.096354</td>\n",
       "      <td>0.097917</td>\n",
       "      <td>0.097917</td>\n",
       "      <td>1443120000</td>\n",
       "      <td>NaN</td>\n",
       "      <td>NaN</td>\n",
       "      <td>-0.234045</td>\n",
       "    </tr>\n",
       "    <tr>\n",
       "      <th>1997-05-16</th>\n",
       "      <td>0.098438</td>\n",
       "      <td>0.098958</td>\n",
       "      <td>0.085417</td>\n",
       "      <td>0.086458</td>\n",
       "      <td>0.086458</td>\n",
       "      <td>294000000</td>\n",
       "      <td>-0.117028</td>\n",
       "      <td>0.882972</td>\n",
       "      <td>-0.234045</td>\n",
       "    </tr>\n",
       "    <tr>\n",
       "      <th>1997-05-19</th>\n",
       "      <td>0.088021</td>\n",
       "      <td>0.088542</td>\n",
       "      <td>0.081250</td>\n",
       "      <td>0.085417</td>\n",
       "      <td>0.085417</td>\n",
       "      <td>122136000</td>\n",
       "      <td>-0.012040</td>\n",
       "      <td>0.987960</td>\n",
       "      <td>-0.234045</td>\n",
       "    </tr>\n",
       "    <tr>\n",
       "      <th>1997-05-20</th>\n",
       "      <td>0.086458</td>\n",
       "      <td>0.087500</td>\n",
       "      <td>0.081771</td>\n",
       "      <td>0.081771</td>\n",
       "      <td>0.081771</td>\n",
       "      <td>109344000</td>\n",
       "      <td>-0.042685</td>\n",
       "      <td>0.957315</td>\n",
       "      <td>-0.234045</td>\n",
       "    </tr>\n",
       "    <tr>\n",
       "      <th>1997-05-21</th>\n",
       "      <td>0.081771</td>\n",
       "      <td>0.082292</td>\n",
       "      <td>0.068750</td>\n",
       "      <td>0.071354</td>\n",
       "      <td>0.071354</td>\n",
       "      <td>377064000</td>\n",
       "      <td>-0.127392</td>\n",
       "      <td>0.872608</td>\n",
       "      <td>-0.234045</td>\n",
       "    </tr>\n",
       "    <tr>\n",
       "      <th>1997-05-22</th>\n",
       "      <td>0.071875</td>\n",
       "      <td>0.072396</td>\n",
       "      <td>0.065625</td>\n",
       "      <td>0.069792</td>\n",
       "      <td>0.069792</td>\n",
       "      <td>235536000</td>\n",
       "      <td>-0.021891</td>\n",
       "      <td>0.978109</td>\n",
       "      <td>-0.234045</td>\n",
       "    </tr>\n",
       "    <tr>\n",
       "      <th>1997-05-23</th>\n",
       "      <td>0.070313</td>\n",
       "      <td>0.076042</td>\n",
       "      <td>0.066667</td>\n",
       "      <td>0.075000</td>\n",
       "      <td>0.075000</td>\n",
       "      <td>318744000</td>\n",
       "      <td>0.074622</td>\n",
       "      <td>1.074622</td>\n",
       "      <td>-0.234045</td>\n",
       "    </tr>\n",
       "    <tr>\n",
       "      <th>1997-05-27</th>\n",
       "      <td>0.075521</td>\n",
       "      <td>0.082292</td>\n",
       "      <td>0.072917</td>\n",
       "      <td>0.079167</td>\n",
       "      <td>0.079167</td>\n",
       "      <td>173952000</td>\n",
       "      <td>0.055560</td>\n",
       "      <td>1.055560</td>\n",
       "      <td>-0.234045</td>\n",
       "    </tr>\n",
       "    <tr>\n",
       "      <th>1997-05-28</th>\n",
       "      <td>0.081250</td>\n",
       "      <td>0.081771</td>\n",
       "      <td>0.076563</td>\n",
       "      <td>0.076563</td>\n",
       "      <td>0.076563</td>\n",
       "      <td>91488000</td>\n",
       "      <td>-0.032892</td>\n",
       "      <td>0.967108</td>\n",
       "      <td>-0.234045</td>\n",
       "    </tr>\n",
       "    <tr>\n",
       "      <th>1997-05-29</th>\n",
       "      <td>0.077083</td>\n",
       "      <td>0.077083</td>\n",
       "      <td>0.073958</td>\n",
       "      <td>0.075260</td>\n",
       "      <td>0.075260</td>\n",
       "      <td>69456000</td>\n",
       "      <td>-0.017019</td>\n",
       "      <td>0.982981</td>\n",
       "      <td>-0.234045</td>\n",
       "    </tr>\n",
       "    <tr>\n",
       "      <th>1997-05-30</th>\n",
       "      <td>0.075000</td>\n",
       "      <td>0.075521</td>\n",
       "      <td>0.073958</td>\n",
       "      <td>0.075000</td>\n",
       "      <td>0.075000</td>\n",
       "      <td>51888000</td>\n",
       "      <td>-0.003455</td>\n",
       "      <td>0.996545</td>\n",
       "      <td>-0.234045</td>\n",
       "    </tr>\n",
       "    <tr>\n",
       "      <th>1997-06-02</th>\n",
       "      <td>0.075521</td>\n",
       "      <td>0.076563</td>\n",
       "      <td>0.075000</td>\n",
       "      <td>0.075521</td>\n",
       "      <td>0.075521</td>\n",
       "      <td>11832000</td>\n",
       "      <td>0.006947</td>\n",
       "      <td>1.006947</td>\n",
       "      <td>0.027773</td>\n",
       "    </tr>\n",
       "    <tr>\n",
       "      <th>1997-06-03</th>\n",
       "      <td>0.076563</td>\n",
       "      <td>0.076563</td>\n",
       "      <td>0.073958</td>\n",
       "      <td>0.073958</td>\n",
       "      <td>0.073958</td>\n",
       "      <td>23664000</td>\n",
       "      <td>-0.020696</td>\n",
       "      <td>0.979304</td>\n",
       "      <td>0.027773</td>\n",
       "    </tr>\n",
       "    <tr>\n",
       "      <th>1997-06-04</th>\n",
       "      <td>0.073958</td>\n",
       "      <td>0.074479</td>\n",
       "      <td>0.069792</td>\n",
       "      <td>0.070833</td>\n",
       "      <td>0.070833</td>\n",
       "      <td>61608000</td>\n",
       "      <td>-0.042254</td>\n",
       "      <td>0.957746</td>\n",
       "      <td>0.027773</td>\n",
       "    </tr>\n",
       "    <tr>\n",
       "      <th>1997-06-05</th>\n",
       "      <td>0.070833</td>\n",
       "      <td>0.077083</td>\n",
       "      <td>0.068750</td>\n",
       "      <td>0.077083</td>\n",
       "      <td>0.077083</td>\n",
       "      <td>113448000</td>\n",
       "      <td>0.088236</td>\n",
       "      <td>1.088236</td>\n",
       "      <td>0.027773</td>\n",
       "    </tr>\n",
       "    <tr>\n",
       "      <th>1997-06-06</th>\n",
       "      <td>0.075781</td>\n",
       "      <td>0.085417</td>\n",
       "      <td>0.075521</td>\n",
       "      <td>0.082813</td>\n",
       "      <td>0.082813</td>\n",
       "      <td>156144000</td>\n",
       "      <td>0.074335</td>\n",
       "      <td>1.074335</td>\n",
       "      <td>0.027773</td>\n",
       "    </tr>\n",
       "    <tr>\n",
       "      <th>1997-06-09</th>\n",
       "      <td>0.082813</td>\n",
       "      <td>0.085417</td>\n",
       "      <td>0.082813</td>\n",
       "      <td>0.084375</td>\n",
       "      <td>0.084375</td>\n",
       "      <td>47040000</td>\n",
       "      <td>0.018862</td>\n",
       "      <td>1.018862</td>\n",
       "      <td>0.027773</td>\n",
       "    </tr>\n",
       "    <tr>\n",
       "      <th>1997-06-10</th>\n",
       "      <td>0.085417</td>\n",
       "      <td>0.085417</td>\n",
       "      <td>0.076563</td>\n",
       "      <td>0.079167</td>\n",
       "      <td>0.079167</td>\n",
       "      <td>109176000</td>\n",
       "      <td>-0.061724</td>\n",
       "      <td>0.938276</td>\n",
       "      <td>0.027773</td>\n",
       "    </tr>\n",
       "    <tr>\n",
       "      <th>1997-06-11</th>\n",
       "      <td>0.079688</td>\n",
       "      <td>0.080208</td>\n",
       "      <td>0.076563</td>\n",
       "      <td>0.077083</td>\n",
       "      <td>0.077083</td>\n",
       "      <td>23760000</td>\n",
       "      <td>-0.026324</td>\n",
       "      <td>0.973676</td>\n",
       "      <td>0.027773</td>\n",
       "    </tr>\n",
       "    <tr>\n",
       "      <th>1997-06-12</th>\n",
       "      <td>0.079167</td>\n",
       "      <td>0.082292</td>\n",
       "      <td>0.077604</td>\n",
       "      <td>0.080208</td>\n",
       "      <td>0.080208</td>\n",
       "      <td>32640000</td>\n",
       "      <td>0.040541</td>\n",
       "      <td>1.040541</td>\n",
       "      <td>0.027773</td>\n",
       "    </tr>\n",
       "    <tr>\n",
       "      <th>1997-06-13</th>\n",
       "      <td>0.081250</td>\n",
       "      <td>0.081250</td>\n",
       "      <td>0.079167</td>\n",
       "      <td>0.079167</td>\n",
       "      <td>0.079167</td>\n",
       "      <td>13872000</td>\n",
       "      <td>-0.012979</td>\n",
       "      <td>0.987021</td>\n",
       "      <td>0.027773</td>\n",
       "    </tr>\n",
       "    <tr>\n",
       "      <th>1997-06-16</th>\n",
       "      <td>0.080208</td>\n",
       "      <td>0.080208</td>\n",
       "      <td>0.078125</td>\n",
       "      <td>0.078646</td>\n",
       "      <td>0.078646</td>\n",
       "      <td>18264000</td>\n",
       "      <td>-0.006581</td>\n",
       "      <td>0.993419</td>\n",
       "      <td>0.027773</td>\n",
       "    </tr>\n",
       "    <tr>\n",
       "      <th>1997-06-17</th>\n",
       "      <td>0.079948</td>\n",
       "      <td>0.079948</td>\n",
       "      <td>0.074740</td>\n",
       "      <td>0.075260</td>\n",
       "      <td>0.075260</td>\n",
       "      <td>94128000</td>\n",
       "      <td>-0.043054</td>\n",
       "      <td>0.956946</td>\n",
       "      <td>0.027773</td>\n",
       "    </tr>\n",
       "    <tr>\n",
       "      <th>1997-06-18</th>\n",
       "      <td>0.076042</td>\n",
       "      <td>0.076823</td>\n",
       "      <td>0.075000</td>\n",
       "      <td>0.075521</td>\n",
       "      <td>0.075521</td>\n",
       "      <td>49296000</td>\n",
       "      <td>0.003468</td>\n",
       "      <td>1.003468</td>\n",
       "      <td>0.027773</td>\n",
       "    </tr>\n",
       "    <tr>\n",
       "      <th>1997-06-19</th>\n",
       "      <td>0.075521</td>\n",
       "      <td>0.076563</td>\n",
       "      <td>0.075000</td>\n",
       "      <td>0.075521</td>\n",
       "      <td>0.075521</td>\n",
       "      <td>20064000</td>\n",
       "      <td>0.000000</td>\n",
       "      <td>1.000000</td>\n",
       "      <td>0.027773</td>\n",
       "    </tr>\n",
       "    <tr>\n",
       "      <th>1997-06-20</th>\n",
       "      <td>0.076563</td>\n",
       "      <td>0.077604</td>\n",
       "      <td>0.075000</td>\n",
       "      <td>0.076302</td>\n",
       "      <td>0.076302</td>\n",
       "      <td>67752000</td>\n",
       "      <td>0.010341</td>\n",
       "      <td>1.010341</td>\n",
       "      <td>0.027773</td>\n",
       "    </tr>\n",
       "    <tr>\n",
       "      <th>1997-06-23</th>\n",
       "      <td>0.077083</td>\n",
       "      <td>0.077083</td>\n",
       "      <td>0.073958</td>\n",
       "      <td>0.075000</td>\n",
       "      <td>0.075000</td>\n",
       "      <td>20952000</td>\n",
       "      <td>-0.017064</td>\n",
       "      <td>0.982936</td>\n",
       "      <td>0.027773</td>\n",
       "    </tr>\n",
       "    <tr>\n",
       "      <th>1997-06-24</th>\n",
       "      <td>0.075260</td>\n",
       "      <td>0.076302</td>\n",
       "      <td>0.073958</td>\n",
       "      <td>0.075521</td>\n",
       "      <td>0.075521</td>\n",
       "      <td>15024000</td>\n",
       "      <td>0.006947</td>\n",
       "      <td>1.006947</td>\n",
       "      <td>0.027773</td>\n",
       "    </tr>\n",
       "    <tr>\n",
       "      <th>1997-06-25</th>\n",
       "      <td>0.076302</td>\n",
       "      <td>0.076302</td>\n",
       "      <td>0.074479</td>\n",
       "      <td>0.075521</td>\n",
       "      <td>0.075521</td>\n",
       "      <td>42120000</td>\n",
       "      <td>0.000000</td>\n",
       "      <td>1.000000</td>\n",
       "      <td>0.027773</td>\n",
       "    </tr>\n",
       "    <tr>\n",
       "      <th>1997-06-26</th>\n",
       "      <td>0.076042</td>\n",
       "      <td>0.076042</td>\n",
       "      <td>0.075260</td>\n",
       "      <td>0.075521</td>\n",
       "      <td>0.075521</td>\n",
       "      <td>63792000</td>\n",
       "      <td>0.000000</td>\n",
       "      <td>1.000000</td>\n",
       "      <td>0.027773</td>\n",
       "    </tr>\n",
       "    <tr>\n",
       "      <th>1997-06-27</th>\n",
       "      <td>0.075781</td>\n",
       "      <td>0.075781</td>\n",
       "      <td>0.073958</td>\n",
       "      <td>0.074479</td>\n",
       "      <td>0.074479</td>\n",
       "      <td>23760000</td>\n",
       "      <td>-0.013797</td>\n",
       "      <td>0.986203</td>\n",
       "      <td>0.027773</td>\n",
       "    </tr>\n",
       "    <tr>\n",
       "      <th>1997-06-30</th>\n",
       "      <td>0.075521</td>\n",
       "      <td>0.079948</td>\n",
       "      <td>0.073958</td>\n",
       "      <td>0.077083</td>\n",
       "      <td>0.077083</td>\n",
       "      <td>54936000</td>\n",
       "      <td>0.034963</td>\n",
       "      <td>1.034963</td>\n",
       "      <td>0.027773</td>\n",
       "    </tr>\n",
       "  </tbody>\n",
       "</table>\n",
       "</div>"
      ],
      "text/plain": [
       "                Open      High       Low  ...  daily_ret  daily_ret_1  monthly_ret\n",
       "Date                                      ...                                     \n",
       "1997-05-15  0.121875  0.125000  0.096354  ...        NaN          NaN    -0.234045\n",
       "1997-05-16  0.098438  0.098958  0.085417  ...  -0.117028     0.882972    -0.234045\n",
       "1997-05-19  0.088021  0.088542  0.081250  ...  -0.012040     0.987960    -0.234045\n",
       "1997-05-20  0.086458  0.087500  0.081771  ...  -0.042685     0.957315    -0.234045\n",
       "1997-05-21  0.081771  0.082292  0.068750  ...  -0.127392     0.872608    -0.234045\n",
       "1997-05-22  0.071875  0.072396  0.065625  ...  -0.021891     0.978109    -0.234045\n",
       "1997-05-23  0.070313  0.076042  0.066667  ...   0.074622     1.074622    -0.234045\n",
       "1997-05-27  0.075521  0.082292  0.072917  ...   0.055560     1.055560    -0.234045\n",
       "1997-05-28  0.081250  0.081771  0.076563  ...  -0.032892     0.967108    -0.234045\n",
       "1997-05-29  0.077083  0.077083  0.073958  ...  -0.017019     0.982981    -0.234045\n",
       "1997-05-30  0.075000  0.075521  0.073958  ...  -0.003455     0.996545    -0.234045\n",
       "1997-06-02  0.075521  0.076563  0.075000  ...   0.006947     1.006947     0.027773\n",
       "1997-06-03  0.076563  0.076563  0.073958  ...  -0.020696     0.979304     0.027773\n",
       "1997-06-04  0.073958  0.074479  0.069792  ...  -0.042254     0.957746     0.027773\n",
       "1997-06-05  0.070833  0.077083  0.068750  ...   0.088236     1.088236     0.027773\n",
       "1997-06-06  0.075781  0.085417  0.075521  ...   0.074335     1.074335     0.027773\n",
       "1997-06-09  0.082813  0.085417  0.082813  ...   0.018862     1.018862     0.027773\n",
       "1997-06-10  0.085417  0.085417  0.076563  ...  -0.061724     0.938276     0.027773\n",
       "1997-06-11  0.079688  0.080208  0.076563  ...  -0.026324     0.973676     0.027773\n",
       "1997-06-12  0.079167  0.082292  0.077604  ...   0.040541     1.040541     0.027773\n",
       "1997-06-13  0.081250  0.081250  0.079167  ...  -0.012979     0.987021     0.027773\n",
       "1997-06-16  0.080208  0.080208  0.078125  ...  -0.006581     0.993419     0.027773\n",
       "1997-06-17  0.079948  0.079948  0.074740  ...  -0.043054     0.956946     0.027773\n",
       "1997-06-18  0.076042  0.076823  0.075000  ...   0.003468     1.003468     0.027773\n",
       "1997-06-19  0.075521  0.076563  0.075000  ...   0.000000     1.000000     0.027773\n",
       "1997-06-20  0.076563  0.077604  0.075000  ...   0.010341     1.010341     0.027773\n",
       "1997-06-23  0.077083  0.077083  0.073958  ...  -0.017064     0.982936     0.027773\n",
       "1997-06-24  0.075260  0.076302  0.073958  ...   0.006947     1.006947     0.027773\n",
       "1997-06-25  0.076302  0.076302  0.074479  ...   0.000000     1.000000     0.027773\n",
       "1997-06-26  0.076042  0.076042  0.075260  ...   0.000000     1.000000     0.027773\n",
       "1997-06-27  0.075781  0.075781  0.073958  ...  -0.013797     0.986203     0.027773\n",
       "1997-06-30  0.075521  0.079948  0.073958  ...   0.034963     1.034963     0.027773\n",
       "\n",
       "[32 rows x 9 columns]"
      ]
     },
     "execution_count": 58,
     "metadata": {},
     "output_type": "execute_result"
    }
   ],
   "source": [
    "amzn.head(32)"
   ]
  },
  {
   "cell_type": "markdown",
   "metadata": {
    "pycharm": {
     "name": "#%% md\n"
    }
   },
   "source": [
    "### Task 9: Monthly Netflix returns\n",
    "\n",
    "\n",
    "1. Create a new column **monthly_ret** for the monthly returns.\n",
    "2. Subtract 1 from the **monthly_ret** column to reflect the values as a signed rate."
   ]
  },
  {
   "cell_type": "code",
   "execution_count": null,
   "metadata": {
    "pycharm": {
     "name": "#%%\n"
    }
   },
   "outputs": [],
   "source": []
  }
 ],
 "metadata": {
  "kernelspec": {
   "display_name": "ds-py37",
   "language": "python",
   "name": "python3"
  },
  "language_info": {
   "codemirror_mode": {
    "name": "ipython",
    "version": 3
   },
   "file_extension": ".py",
   "mimetype": "text/x-python",
   "name": "python",
   "nbconvert_exporter": "python",
   "pygments_lexer": "ipython3",
   "version": "3.9.16"
  },
  "vscode": {
   "interpreter": {
    "hash": "6bfbe47bd08290686626768386311ceb83f3a0dbecee84d146c554190cea57e3"
   }
  }
 },
 "nbformat": 4,
 "nbformat_minor": 2
}
